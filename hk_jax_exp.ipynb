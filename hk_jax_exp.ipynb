{
  "nbformat": 4,
  "nbformat_minor": 0,
  "metadata": {
    "colab": {
      "name": "hk_jax_exp.ipynb",
      "provenance": [],
      "authorship_tag": "ABX9TyPIiZAivi951EBVCTNyMm+p"
    },
    "kernelspec": {
      "display_name": "Python 3",
      "name": "python3"
    },
    "language_info": {
      "name": "python"
    },
    "widgets": {
      "application/vnd.jupyter.widget-state+json": {
        "d54f25cfbee54df490f01cd09387f8a6": {
          "model_module": "@jupyter-widgets/controls",
          "model_name": "HBoxModel",
          "state": {
            "_view_name": "HBoxView",
            "_dom_classes": [],
            "_model_name": "HBoxModel",
            "_view_module": "@jupyter-widgets/controls",
            "_model_module_version": "1.5.0",
            "_view_count": null,
            "_view_module_version": "1.5.0",
            "box_style": "",
            "layout": "IPY_MODEL_f9ce96886f3f4653a30a80223a42c245",
            "_model_module": "@jupyter-widgets/controls",
            "children": [
              "IPY_MODEL_2a6288829714400580ed25c162ebf98d",
              "IPY_MODEL_236ddf126b6543ef8da9fe691a975f66"
            ]
          }
        },
        "f9ce96886f3f4653a30a80223a42c245": {
          "model_module": "@jupyter-widgets/base",
          "model_name": "LayoutModel",
          "state": {
            "_view_name": "LayoutView",
            "grid_template_rows": null,
            "right": null,
            "justify_content": null,
            "_view_module": "@jupyter-widgets/base",
            "overflow": null,
            "_model_module_version": "1.2.0",
            "_view_count": null,
            "flex_flow": null,
            "width": null,
            "min_width": null,
            "border": null,
            "align_items": null,
            "bottom": null,
            "_model_module": "@jupyter-widgets/base",
            "top": null,
            "grid_column": null,
            "overflow_y": null,
            "overflow_x": null,
            "grid_auto_flow": null,
            "grid_area": null,
            "grid_template_columns": null,
            "flex": null,
            "_model_name": "LayoutModel",
            "justify_items": null,
            "grid_row": null,
            "max_height": null,
            "align_content": null,
            "visibility": null,
            "align_self": null,
            "height": null,
            "min_height": null,
            "padding": null,
            "grid_auto_rows": null,
            "grid_gap": null,
            "max_width": null,
            "order": null,
            "_view_module_version": "1.2.0",
            "grid_template_areas": null,
            "object_position": null,
            "object_fit": null,
            "grid_auto_columns": null,
            "margin": null,
            "display": null,
            "left": null
          }
        },
        "2a6288829714400580ed25c162ebf98d": {
          "model_module": "@jupyter-widgets/controls",
          "model_name": "FloatProgressModel",
          "state": {
            "_view_name": "ProgressView",
            "style": "IPY_MODEL_e8983e27f0ab45b4906d375d0f82f065",
            "_dom_classes": [],
            "description": "Dl Completed...: 100%",
            "_model_name": "FloatProgressModel",
            "bar_style": "success",
            "max": 4,
            "_view_module": "@jupyter-widgets/controls",
            "_model_module_version": "1.5.0",
            "value": 4,
            "_view_count": null,
            "_view_module_version": "1.5.0",
            "orientation": "horizontal",
            "min": 0,
            "description_tooltip": null,
            "_model_module": "@jupyter-widgets/controls",
            "layout": "IPY_MODEL_93b37b809cc342208b2a514363b8a0f3"
          }
        },
        "236ddf126b6543ef8da9fe691a975f66": {
          "model_module": "@jupyter-widgets/controls",
          "model_name": "HTMLModel",
          "state": {
            "_view_name": "HTMLView",
            "style": "IPY_MODEL_db8d2f39817a4adbad71add4f841f5fb",
            "_dom_classes": [],
            "description": "",
            "_model_name": "HTMLModel",
            "placeholder": "​",
            "_view_module": "@jupyter-widgets/controls",
            "_model_module_version": "1.5.0",
            "value": " 4/4 [00:00&lt;00:00,  4.38 file/s]",
            "_view_count": null,
            "_view_module_version": "1.5.0",
            "description_tooltip": null,
            "_model_module": "@jupyter-widgets/controls",
            "layout": "IPY_MODEL_389d7522aa8f44c2a32a78913b761ab7"
          }
        },
        "e8983e27f0ab45b4906d375d0f82f065": {
          "model_module": "@jupyter-widgets/controls",
          "model_name": "ProgressStyleModel",
          "state": {
            "_view_name": "StyleView",
            "_model_name": "ProgressStyleModel",
            "description_width": "initial",
            "_view_module": "@jupyter-widgets/base",
            "_model_module_version": "1.5.0",
            "_view_count": null,
            "_view_module_version": "1.2.0",
            "bar_color": null,
            "_model_module": "@jupyter-widgets/controls"
          }
        },
        "93b37b809cc342208b2a514363b8a0f3": {
          "model_module": "@jupyter-widgets/base",
          "model_name": "LayoutModel",
          "state": {
            "_view_name": "LayoutView",
            "grid_template_rows": null,
            "right": null,
            "justify_content": null,
            "_view_module": "@jupyter-widgets/base",
            "overflow": null,
            "_model_module_version": "1.2.0",
            "_view_count": null,
            "flex_flow": null,
            "width": null,
            "min_width": null,
            "border": null,
            "align_items": null,
            "bottom": null,
            "_model_module": "@jupyter-widgets/base",
            "top": null,
            "grid_column": null,
            "overflow_y": null,
            "overflow_x": null,
            "grid_auto_flow": null,
            "grid_area": null,
            "grid_template_columns": null,
            "flex": null,
            "_model_name": "LayoutModel",
            "justify_items": null,
            "grid_row": null,
            "max_height": null,
            "align_content": null,
            "visibility": null,
            "align_self": null,
            "height": null,
            "min_height": null,
            "padding": null,
            "grid_auto_rows": null,
            "grid_gap": null,
            "max_width": null,
            "order": null,
            "_view_module_version": "1.2.0",
            "grid_template_areas": null,
            "object_position": null,
            "object_fit": null,
            "grid_auto_columns": null,
            "margin": null,
            "display": null,
            "left": null
          }
        },
        "db8d2f39817a4adbad71add4f841f5fb": {
          "model_module": "@jupyter-widgets/controls",
          "model_name": "DescriptionStyleModel",
          "state": {
            "_view_name": "StyleView",
            "_model_name": "DescriptionStyleModel",
            "description_width": "",
            "_view_module": "@jupyter-widgets/base",
            "_model_module_version": "1.5.0",
            "_view_count": null,
            "_view_module_version": "1.2.0",
            "_model_module": "@jupyter-widgets/controls"
          }
        },
        "389d7522aa8f44c2a32a78913b761ab7": {
          "model_module": "@jupyter-widgets/base",
          "model_name": "LayoutModel",
          "state": {
            "_view_name": "LayoutView",
            "grid_template_rows": null,
            "right": null,
            "justify_content": null,
            "_view_module": "@jupyter-widgets/base",
            "overflow": null,
            "_model_module_version": "1.2.0",
            "_view_count": null,
            "flex_flow": null,
            "width": null,
            "min_width": null,
            "border": null,
            "align_items": null,
            "bottom": null,
            "_model_module": "@jupyter-widgets/base",
            "top": null,
            "grid_column": null,
            "overflow_y": null,
            "overflow_x": null,
            "grid_auto_flow": null,
            "grid_area": null,
            "grid_template_columns": null,
            "flex": null,
            "_model_name": "LayoutModel",
            "justify_items": null,
            "grid_row": null,
            "max_height": null,
            "align_content": null,
            "visibility": null,
            "align_self": null,
            "height": null,
            "min_height": null,
            "padding": null,
            "grid_auto_rows": null,
            "grid_gap": null,
            "max_width": null,
            "order": null,
            "_view_module_version": "1.2.0",
            "grid_template_areas": null,
            "object_position": null,
            "object_fit": null,
            "grid_auto_columns": null,
            "margin": null,
            "display": null,
            "left": null
          }
        }
      }
    }
  },
  "cells": [
    {
      "cell_type": "code",
      "metadata": {
        "colab": {
          "base_uri": "https://localhost:8080/"
        },
        "id": "TnAuBMwW5YpY",
        "outputId": "fd323e7e-ac37-40de-9e26-136aa54ffed6"
      },
      "source": [
        "!pip3 install -U optax dm-haiku -q"
      ],
      "execution_count": null,
      "outputs": [
        {
          "output_type": "stream",
          "text": [
            "\u001b[K     |████████████████████████████████| 122kB 13.2MB/s \n",
            "\u001b[K     |████████████████████████████████| 286kB 20.3MB/s \n",
            "\u001b[K     |████████████████████████████████| 61kB 6.7MB/s \n",
            "\u001b[?25h"
          ],
          "name": "stdout"
        }
      ]
    },
    {
      "cell_type": "code",
      "metadata": {
        "id": "xKBU-zlo5JE6"
      },
      "source": [
        "import jax\n",
        "import jax.numpy as jnp\n",
        "from jax import random\n",
        "import optax\n",
        "import haiku as hk"
      ],
      "execution_count": null,
      "outputs": []
    },
    {
      "cell_type": "code",
      "metadata": {
        "id": "Pp1I14hO93yS"
      },
      "source": [
        "def softmax_cross_entropy(logits, labels):\n",
        "  one_hot = jax.nn.one_hot(labels, logits.shape[-1])\n",
        "  return -jnp.sum(jax.nn.log_softmax(logits) * one_hot, axis=-1)"
      ],
      "execution_count": null,
      "outputs": []
    },
    {
      "cell_type": "code",
      "metadata": {
        "id": "fw9U5l2g8yrR"
      },
      "source": [
        "num_devices = jax.local_device_count()"
      ],
      "execution_count": null,
      "outputs": []
    },
    {
      "cell_type": "code",
      "metadata": {
        "id": "yvKXe-gWAAB7"
      },
      "source": [
        " \n",
        "from typing import Generator, Mapping, Tuple\n",
        " \n",
        "from absl import app\n",
        "import haiku as hk\n",
        "import jax\n",
        "import jax.numpy as jnp\n",
        "import numpy as np\n",
        "import optax\n",
        "import tensorflow_datasets as tfds\n",
        " \n",
        "Batch = Mapping[str, np.ndarray]"
      ],
      "execution_count": null,
      "outputs": []
    },
    {
      "cell_type": "code",
      "metadata": {
        "colab": {
          "base_uri": "https://localhost:8080/"
        },
        "id": "EiwJd4KKGseU",
        "outputId": "93fa522b-6eee-4709-be9a-930860ce131b"
      },
      "source": [
        "!python3 --version"
      ],
      "execution_count": null,
      "outputs": [
        {
          "output_type": "stream",
          "text": [
            "Python 3.7.10\n"
          ],
          "name": "stdout"
        }
      ]
    },
    {
      "cell_type": "code",
      "metadata": {
        "id": "IZjMfn-FHAiD",
        "colab": {
          "base_uri": "https://localhost:8080/",
          "height": 251,
          "referenced_widgets": [
            "d54f25cfbee54df490f01cd09387f8a6",
            "f9ce96886f3f4653a30a80223a42c245",
            "2a6288829714400580ed25c162ebf98d",
            "236ddf126b6543ef8da9fe691a975f66",
            "e8983e27f0ab45b4906d375d0f82f065",
            "93b37b809cc342208b2a514363b8a0f3",
            "db8d2f39817a4adbad71add4f841f5fb",
            "389d7522aa8f44c2a32a78913b761ab7"
          ]
        },
        "outputId": "dccd968f-c53f-462d-97a6-76ed80cbf391"
      },
      "source": [
        "def load_dataset(\n",
        "    split: str,\n",
        "    *,\n",
        "    is_training: bool,\n",
        "    batch_size: int,\n",
        ") -> Generator[Batch, None, None]:\n",
        "  \"\"\"Loads the dataset as a generator of batches.\"\"\"\n",
        "  ds = tfds.load(\"mnist:3.*.*\", split=split).cache().repeat()\n",
        "  if is_training:\n",
        "    ds = ds.shuffle(10 * batch_size, seed=0)\n",
        "  ds = ds.batch(batch_size)\n",
        "  return iter(tfds.as_numpy(ds))\n",
        " \n",
        "train = load_dataset(\"train\", is_training=True, batch_size=1000)\n",
        "train_eval = load_dataset(\"train\", is_training=False, batch_size=10000)\n",
        "test_eval = load_dataset(\"test\", is_training=False, batch_size=10000)"
      ],
      "execution_count": null,
      "outputs": [
        {
          "output_type": "stream",
          "text": [
            "\u001b[1mDownloading and preparing dataset mnist/3.0.1 (download: 11.06 MiB, generated: 21.00 MiB, total: 32.06 MiB) to /root/tensorflow_datasets/mnist/3.0.1...\u001b[0m\n"
          ],
          "name": "stdout"
        },
        {
          "output_type": "stream",
          "text": [
            "WARNING:absl:Dataset mnist is hosted on GCS. It will automatically be downloaded to your\n",
            "local data directory. If you'd instead prefer to read directly from our public\n",
            "GCS bucket (recommended if you're running on GCP), you can instead pass\n",
            "`try_gcs=True` to `tfds.load` or set `data_dir=gs://tfds-data/datasets`.\n",
            "\n"
          ],
          "name": "stderr"
        },
        {
          "output_type": "display_data",
          "data": {
            "application/vnd.jupyter.widget-view+json": {
              "model_id": "d54f25cfbee54df490f01cd09387f8a6",
              "version_minor": 0,
              "version_major": 2
            },
            "text/plain": [
              "HBox(children=(FloatProgress(value=0.0, description='Dl Completed...', max=4.0, style=ProgressStyle(descriptio…"
            ]
          },
          "metadata": {
            "tags": []
          }
        },
        {
          "output_type": "stream",
          "text": [
            "\n",
            "\n",
            "\u001b[1mDataset mnist downloaded and prepared to /root/tensorflow_datasets/mnist/3.0.1. Subsequent calls will reuse this data.\u001b[0m\n"
          ],
          "name": "stdout"
        }
      ]
    },
    {
      "cell_type": "code",
      "metadata": {
        "id": "iAyk2J9hADBg"
      },
      "source": [
        "class MLP(hk.Module):\n",
        "  def __init__(self,\n",
        "               hidden_dim_1: int = 512,\n",
        "               hidden_dim_2: int = 128):\n",
        "    \n",
        "    super(MLP, self).__init__()\n",
        "    self.h1 = hidden_dim_1\n",
        "    self.h2 = hidden_dim_2\n",
        " \n",
        "  def __call__(self, x):\n",
        "    x = hk.Flatten()(x)\n",
        "    x = hk.Linear(self.h1)(x)\n",
        "    x = jax.nn.relu(x)\n",
        "    x = hk.Linear(self.h2)(x)\n",
        "    x = jax.nn.relu(x)\n",
        "    x = hk.Linear(10)(x)\n",
        " \n",
        "    return x / 0.007"
      ],
      "execution_count": null,
      "outputs": []
    },
    {
      "cell_type": "code",
      "metadata": {
        "id": "G1yFUxY15VF6",
        "colab": {
          "base_uri": "https://localhost:8080/"
        },
        "outputId": "85339ec9-601f-41ec-e58e-b90e46e1a574"
      },
      "source": [
        " \n",
        " \n",
        "def _model(input):\n",
        " \n",
        "  logits = MLP()(input)\n",
        "  return logits\n",
        " \n",
        "rng_keys = hk.PRNGSequence(5322)\n",
        " \n",
        "model = hk.without_apply_rng(hk.transform(_model))\n",
        " \n",
        "x, y = random.normal(next(rng_keys), (1, 28, 28)),\\\n",
        "       random.normal(next(rng_keys), (10,))"
      ],
      "execution_count": null,
      "outputs": [
        {
          "output_type": "stream",
          "text": [
            "WARNING:absl:No GPU/TPU found, falling back to CPU. (Set TF_CPP_MIN_LOG_LEVEL=0 and rerun for more info.)\n"
          ],
          "name": "stderr"
        }
      ]
    },
    {
      "cell_type": "code",
      "metadata": {
        "id": "xSuq9-fdQfTt"
      },
      "source": [
        "def loss_f(params, input, labels):\n",
        "  logits = model.apply(params, input)\n",
        "  return jnp.mean(softmax_cross_entropy(logits, labels))"
      ],
      "execution_count": null,
      "outputs": []
    },
    {
      "cell_type": "code",
      "metadata": {
        "id": "5LlnptGsHMFp"
      },
      "source": [
        "opt = optax.adam(1e-3)\n",
        " \n",
        " \n",
        "params = model.init(next(rng_keys), x)\n",
        " \n",
        "opt_state = opt.init(params)"
      ],
      "execution_count": null,
      "outputs": []
    },
    {
      "cell_type": "code",
      "metadata": {
        "id": "x3jHdJliHsM-"
      },
      "source": [
        "def train_step(batch, params, opt_state):\n",
        "  x = batch[\"image\"].astype(jnp.float32) / 255.\n",
        "  y = batch[\"label\"].astype(jnp.float16)\n",
        " \n",
        "  #logits = model.apply(params, x) : this didn't work :((((((((\n",
        " \n",
        "  loss, grads = jax.value_and_grad(loss_f)(params, x, y)\n",
        " \n",
        "  updates, new_state = opt.update(grads, opt_state, params)\n",
        " \n",
        "  new_params = optax.apply_updates(params, updates)\n",
        " \n",
        "  return loss, new_params, new_state"
      ],
      "execution_count": null,
      "outputs": []
    },
    {
      "cell_type": "code",
      "metadata": {
        "colab": {
          "base_uri": "https://localhost:8080/"
        },
        "id": "W_Yo_vHuJnjl",
        "outputId": "611ffec4-643a-4867-b8c4-a6adc937882a"
      },
      "source": [
        "for step in range(6*30):\n",
        "  batch = next(train)\n",
        "  \n",
        "  loss, params, opt_state = train_step(batch, params, opt_state)\n",
        " \n",
        "  #if step+1 % 100 == 0:\n",
        "  print(loss)"
      ],
      "execution_count": null,
      "outputs": [
        {
          "output_type": "stream",
          "text": [
            "26.093689\n",
            "18.403444\n",
            "14.273032\n",
            "12.678823\n",
            "9.254094\n",
            "7.155964\n",
            "4.879031\n",
            "2.8370836\n",
            "2.0081465\n",
            "2.0044057\n",
            "2.6979413\n",
            "2.1526723\n",
            "1.8961673\n",
            "1.1878397\n",
            "1.0918144\n",
            "1.0188046\n",
            "1.082282\n",
            "1.0657595\n",
            "0.89700973\n",
            "0.97095025\n",
            "1.0158923\n",
            "0.9057389\n",
            "0.8451142\n",
            "0.90824515\n",
            "0.95075977\n",
            "0.7087435\n",
            "0.6762309\n",
            "0.6196399\n",
            "0.65618885\n",
            "0.59841835\n",
            "0.57153213\n",
            "0.4829418\n",
            "0.58315027\n",
            "0.55353343\n",
            "0.46622682\n",
            "0.522438\n",
            "0.63020796\n",
            "0.42958814\n",
            "0.37804466\n",
            "0.4834515\n",
            "0.432176\n",
            "0.41795257\n",
            "0.39416224\n",
            "0.430921\n",
            "0.40570354\n",
            "0.40630338\n",
            "0.43873733\n",
            "0.3684984\n",
            "0.43351117\n",
            "0.35383353\n",
            "0.45855662\n",
            "0.3238036\n",
            "0.40179837\n",
            "0.3713284\n",
            "0.29529378\n",
            "0.42883945\n",
            "0.39610118\n",
            "0.38812608\n",
            "0.29434985\n",
            "0.25721738\n",
            "0.26304486\n",
            "0.297356\n",
            "0.28069127\n",
            "0.37101153\n",
            "0.34849668\n",
            "0.3445206\n",
            "0.29595545\n",
            "0.2537937\n",
            "0.40256327\n",
            "0.2628358\n",
            "0.23771578\n",
            "0.2582818\n",
            "0.26050845\n",
            "0.2668162\n",
            "0.2714106\n",
            "0.2919264\n",
            "0.29753554\n",
            "0.25187933\n",
            "0.20026307\n",
            "0.25052473\n",
            "0.21849391\n",
            "0.26209986\n",
            "0.27636898\n",
            "0.18609782\n",
            "0.25044376\n",
            "0.186051\n",
            "0.26291746\n",
            "0.1955873\n",
            "0.19530097\n",
            "0.26065564\n",
            "0.24837945\n",
            "0.21697068\n",
            "0.20775148\n",
            "0.2517066\n",
            "0.2184599\n",
            "0.23327552\n",
            "0.23118076\n",
            "0.20878634\n",
            "0.19983763\n",
            "0.22589064\n",
            "0.17662378\n",
            "0.25490806\n",
            "0.21338423\n",
            "0.21445125\n",
            "0.15424545\n",
            "0.19587134\n",
            "0.23114185\n",
            "0.15008035\n",
            "0.18638055\n",
            "0.1715656\n",
            "0.21916315\n",
            "0.19803476\n",
            "0.23862535\n",
            "0.19353238\n",
            "0.13631348\n",
            "0.18136872\n",
            "0.14014642\n",
            "0.16059305\n",
            "0.19650081\n",
            "0.15088937\n",
            "0.19414932\n",
            "0.15486935\n",
            "0.18391354\n",
            "0.20466402\n",
            "0.16848159\n",
            "0.17950714\n",
            "0.22914423\n",
            "0.20122759\n",
            "0.17988348\n",
            "0.12139768\n",
            "0.1521127\n",
            "0.15070356\n",
            "0.18476203\n",
            "0.13042405\n",
            "0.12194829\n",
            "0.17580615\n",
            "0.20434669\n",
            "0.13253036\n",
            "0.1224367\n",
            "0.14224216\n",
            "0.1447366\n",
            "0.19393921\n",
            "0.13204454\n",
            "0.16846181\n",
            "0.16695857\n",
            "0.17545266\n",
            "0.17542319\n",
            "0.15635957\n",
            "0.15067047\n",
            "0.14436524\n",
            "0.12398859\n",
            "0.20552908\n",
            "0.13000548\n",
            "0.12575826\n",
            "0.13456379\n",
            "0.11296506\n",
            "0.1161967\n",
            "0.17845343\n",
            "0.13614467\n",
            "0.14505146\n",
            "0.12694687\n",
            "0.16820802\n",
            "0.12988773\n",
            "0.1110486\n",
            "0.13425075\n",
            "0.11908013\n",
            "0.16371492\n",
            "0.1409102\n",
            "0.12209662\n",
            "0.116636105\n",
            "0.12148379\n",
            "0.10545488\n",
            "0.11537884\n",
            "0.10713881\n",
            "0.12684575\n",
            "0.14763138\n",
            "0.15402858\n",
            "0.17267239\n",
            "0.114486516\n",
            "0.12599277\n"
          ],
          "name": "stdout"
        }
      ]
    },
    {
      "cell_type": "code",
      "metadata": {
        "id": "QDq8rv2oTqBJ",
        "colab": {
          "base_uri": "https://localhost:8080/"
        },
        "outputId": "f531e2e2-2e74-4a91-d535-9338c869882b"
      },
      "source": [
        "!pip3 install gradio -q"
      ],
      "execution_count": null,
      "outputs": [
        {
          "output_type": "stream",
          "text": [
            "\u001b[K     |████████████████████████████████| 1.6MB 13.7MB/s \n",
            "\u001b[K     |████████████████████████████████| 215kB 59.5MB/s \n",
            "\u001b[K     |████████████████████████████████| 1.9MB 61.7MB/s \n",
            "\u001b[K     |████████████████████████████████| 71kB 8.2MB/s \n",
            "\u001b[K     |████████████████████████████████| 962kB 57.4MB/s \n",
            "\u001b[K     |████████████████████████████████| 3.2MB 54.1MB/s \n",
            "\u001b[?25h  Building wheel for flask-cachebuster (setup.py) ... \u001b[?25l\u001b[?25hdone\n",
            "  Building wheel for ffmpy (setup.py) ... \u001b[?25l\u001b[?25hdone\n"
          ],
          "name": "stdout"
        }
      ]
    },
    {
      "cell_type": "code",
      "metadata": {
        "id": "elnFpBUnR1AO"
      },
      "source": [
        "def recognize_digit(img):\n",
        "  img = jnp.array(img)\n",
        "  x = jnp.reshape(img, (1, 28, 28))\n",
        "  predictions = jax.nn.softmax(model.apply(params, x), -1).squeeze().tolist()\n",
        " \n",
        "  dict = {str(i): predictions[i] for i in range(10)}\n",
        " \n",
        "  return dict"
      ],
      "execution_count": null,
      "outputs": []
    },
    {
      "cell_type": "code",
      "metadata": {
        "id": "FJuUknotT66z"
      },
      "source": [
        "import gradio as gr"
      ],
      "execution_count": null,
      "outputs": []
    },
    {
      "cell_type": "code",
      "metadata": {
        "colab": {
          "base_uri": "https://localhost:8080/",
          "height": 660
        },
        "id": "AoGr4ZElT5ce",
        "outputId": "edcfe7af-2347-40ef-9ced-9db44050f9ce"
      },
      "source": [
        "gr.Interface(fn=recognize_digit, inputs=\"sketchpad\", outputs=\"label\").launch()"
      ],
      "execution_count": null,
      "outputs": [
        {
          "output_type": "stream",
          "text": [
            "Colab notebook detected. To show errors in colab notebook, set `debug=True` in `launch()`\n",
            "This share link will expire in 24 hours. If you need a permanent link, visit: https://gradio.app/introducing-hosted (NEW!)\n",
            "Running on External URL: https://50132.gradio.app\n",
            "Interface loading below...\n"
          ],
          "name": "stdout"
        },
        {
          "output_type": "display_data",
          "data": {
            "text/html": [
              "\n",
              "        <iframe\n",
              "            width=\"900\"\n",
              "            height=\"500\"\n",
              "            src=\"https://50132.gradio.app\"\n",
              "            frameborder=\"0\"\n",
              "            allowfullscreen\n",
              "        ></iframe>\n",
              "        "
            ],
            "text/plain": [
              "<IPython.lib.display.IFrame at 0x7f87bb3c1f90>"
            ]
          },
          "metadata": {
            "tags": []
          }
        },
        {
          "output_type": "execute_result",
          "data": {
            "text/plain": [
              "(<Flask 'gradio.networking'>,\n",
              " 'http://127.0.0.1:7861/',\n",
              " 'https://50132.gradio.app')"
            ]
          },
          "metadata": {
            "tags": []
          },
          "execution_count": 17
        }
      ]
    },
    {
      "cell_type": "code",
      "metadata": {
        "colab": {
          "base_uri": "https://localhost:8080/"
        },
        "id": "vrKkm-I9SQCJ",
        "outputId": "bd30b435-e69b-42ef-80c3-da6d388e5ec7"
      },
      "source": [
        "recognize_digit(jax.random.normal(next(rng_keys), (28, 28)))"
      ],
      "execution_count": null,
      "outputs": [
        {
          "output_type": "execute_result",
          "data": {
            "text/plain": [
              "{'0': 0.0,\n",
              " '1': 0.0,\n",
              " '2': 0.0,\n",
              " '3': 0.0,\n",
              " '4': 0.0,\n",
              " '5': 0.0,\n",
              " '6': 0.0,\n",
              " '7': 1.0,\n",
              " '8': 0.0,\n",
              " '9': 0.0}"
            ]
          },
          "metadata": {
            "tags": []
          },
          "execution_count": 74
        }
      ]
    }
  ]
}